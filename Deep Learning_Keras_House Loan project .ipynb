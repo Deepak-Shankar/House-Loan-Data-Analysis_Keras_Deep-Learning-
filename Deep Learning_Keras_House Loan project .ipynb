{
 "cells": [
  {
   "cell_type": "markdown",
   "metadata": {},
   "source": [
    "# House Loan Data Analysis"
   ]
  },
  {
   "cell_type": "markdown",
   "metadata": {},
   "source": [
    "DESCRIPTION\n",
    "\n",
    "For safe and secure lending experience, it's important to analyze the past data. In this project, you have to build a deep learning model to predict the chance of default for future loans using the historical data. As you will see, this dataset is highly imbalanced and includes a lot of features that make this problem more challenging.\n",
    "\n",
    "Objective: Create a model that predicts whether or not an applicant will be able to repay a loan using historical data."
   ]
  },
  {
   "cell_type": "code",
   "execution_count": 1,
   "metadata": {},
   "outputs": [
    {
     "name": "stderr",
     "output_type": "stream",
     "text": [
      "Using TensorFlow backend.\n"
     ]
    }
   ],
   "source": [
    "import pandas as pd\n",
    "import numpy  as np\n",
    "import warnings\n",
    "warnings.filterwarnings('ignore')\n",
    "\n",
    "from sklearn.preprocessing    import LabelEncoder\n",
    "from sklearn.impute           import SimpleImputer\n",
    "from sklearn.preprocessing    import StandardScaler\n",
    "from sklearn.model_selection  import train_test_split\n",
    "from sklearn.metrics          import accuracy_score \n",
    "from imblearn.over_sampling   import SMOTE\n",
    "import matplotlib.pyplot as plt \n",
    "import matplotlib \n",
    "%matplotlib inline \n",
    "\n",
    "# ANN Modules\n",
    "import keras\n",
    "from keras.models      import Sequential\n",
    "from keras.layers      import Dense, Dropout\n",
    "from keras.optimizers  import adam"
   ]
  },
  {
   "cell_type": "code",
   "execution_count": 2,
   "metadata": {},
   "outputs": [
    {
     "data": {
      "text/html": [
       "<div>\n",
       "<style scoped>\n",
       "    .dataframe tbody tr th:only-of-type {\n",
       "        vertical-align: middle;\n",
       "    }\n",
       "\n",
       "    .dataframe tbody tr th {\n",
       "        vertical-align: top;\n",
       "    }\n",
       "\n",
       "    .dataframe thead th {\n",
       "        text-align: right;\n",
       "    }\n",
       "</style>\n",
       "<table border=\"1\" class=\"dataframe\">\n",
       "  <thead>\n",
       "    <tr style=\"text-align: right;\">\n",
       "      <th></th>\n",
       "      <th>TARGET</th>\n",
       "      <th>NAME_CONTRACT_TYPE</th>\n",
       "      <th>CODE_GENDER</th>\n",
       "      <th>FLAG_OWN_CAR</th>\n",
       "      <th>FLAG_OWN_REALTY</th>\n",
       "      <th>CNT_CHILDREN</th>\n",
       "      <th>AMT_INCOME_TOTAL</th>\n",
       "      <th>AMT_CREDIT</th>\n",
       "      <th>AMT_ANNUITY</th>\n",
       "      <th>AMT_GOODS_PRICE</th>\n",
       "      <th>...</th>\n",
       "      <th>FLAG_DOCUMENT_18</th>\n",
       "      <th>FLAG_DOCUMENT_19</th>\n",
       "      <th>FLAG_DOCUMENT_20</th>\n",
       "      <th>FLAG_DOCUMENT_21</th>\n",
       "      <th>AMT_REQ_CREDIT_BUREAU_HOUR</th>\n",
       "      <th>AMT_REQ_CREDIT_BUREAU_DAY</th>\n",
       "      <th>AMT_REQ_CREDIT_BUREAU_WEEK</th>\n",
       "      <th>AMT_REQ_CREDIT_BUREAU_MON</th>\n",
       "      <th>AMT_REQ_CREDIT_BUREAU_QRT</th>\n",
       "      <th>AMT_REQ_CREDIT_BUREAU_YEAR</th>\n",
       "    </tr>\n",
       "  </thead>\n",
       "  <tbody>\n",
       "    <tr>\n",
       "      <th>0</th>\n",
       "      <td>1</td>\n",
       "      <td>Cash loans</td>\n",
       "      <td>M</td>\n",
       "      <td>N</td>\n",
       "      <td>Y</td>\n",
       "      <td>0</td>\n",
       "      <td>202500.0</td>\n",
       "      <td>406597.5</td>\n",
       "      <td>24700.5</td>\n",
       "      <td>351000.0</td>\n",
       "      <td>...</td>\n",
       "      <td>0</td>\n",
       "      <td>0</td>\n",
       "      <td>0</td>\n",
       "      <td>0</td>\n",
       "      <td>0.0</td>\n",
       "      <td>0.0</td>\n",
       "      <td>0.0</td>\n",
       "      <td>0.0</td>\n",
       "      <td>0.0</td>\n",
       "      <td>1.0</td>\n",
       "    </tr>\n",
       "    <tr>\n",
       "      <th>1</th>\n",
       "      <td>0</td>\n",
       "      <td>Cash loans</td>\n",
       "      <td>F</td>\n",
       "      <td>N</td>\n",
       "      <td>N</td>\n",
       "      <td>0</td>\n",
       "      <td>270000.0</td>\n",
       "      <td>1293502.5</td>\n",
       "      <td>35698.5</td>\n",
       "      <td>1129500.0</td>\n",
       "      <td>...</td>\n",
       "      <td>0</td>\n",
       "      <td>0</td>\n",
       "      <td>0</td>\n",
       "      <td>0</td>\n",
       "      <td>0.0</td>\n",
       "      <td>0.0</td>\n",
       "      <td>0.0</td>\n",
       "      <td>0.0</td>\n",
       "      <td>0.0</td>\n",
       "      <td>0.0</td>\n",
       "    </tr>\n",
       "    <tr>\n",
       "      <th>2</th>\n",
       "      <td>0</td>\n",
       "      <td>Revolving loans</td>\n",
       "      <td>M</td>\n",
       "      <td>Y</td>\n",
       "      <td>Y</td>\n",
       "      <td>0</td>\n",
       "      <td>67500.0</td>\n",
       "      <td>135000.0</td>\n",
       "      <td>6750.0</td>\n",
       "      <td>135000.0</td>\n",
       "      <td>...</td>\n",
       "      <td>0</td>\n",
       "      <td>0</td>\n",
       "      <td>0</td>\n",
       "      <td>0</td>\n",
       "      <td>0.0</td>\n",
       "      <td>0.0</td>\n",
       "      <td>0.0</td>\n",
       "      <td>0.0</td>\n",
       "      <td>0.0</td>\n",
       "      <td>0.0</td>\n",
       "    </tr>\n",
       "    <tr>\n",
       "      <th>3</th>\n",
       "      <td>0</td>\n",
       "      <td>Cash loans</td>\n",
       "      <td>F</td>\n",
       "      <td>N</td>\n",
       "      <td>Y</td>\n",
       "      <td>0</td>\n",
       "      <td>135000.0</td>\n",
       "      <td>312682.5</td>\n",
       "      <td>29686.5</td>\n",
       "      <td>297000.0</td>\n",
       "      <td>...</td>\n",
       "      <td>0</td>\n",
       "      <td>0</td>\n",
       "      <td>0</td>\n",
       "      <td>0</td>\n",
       "      <td>NaN</td>\n",
       "      <td>NaN</td>\n",
       "      <td>NaN</td>\n",
       "      <td>NaN</td>\n",
       "      <td>NaN</td>\n",
       "      <td>NaN</td>\n",
       "    </tr>\n",
       "    <tr>\n",
       "      <th>4</th>\n",
       "      <td>0</td>\n",
       "      <td>Cash loans</td>\n",
       "      <td>M</td>\n",
       "      <td>N</td>\n",
       "      <td>Y</td>\n",
       "      <td>0</td>\n",
       "      <td>121500.0</td>\n",
       "      <td>513000.0</td>\n",
       "      <td>21865.5</td>\n",
       "      <td>513000.0</td>\n",
       "      <td>...</td>\n",
       "      <td>0</td>\n",
       "      <td>0</td>\n",
       "      <td>0</td>\n",
       "      <td>0</td>\n",
       "      <td>0.0</td>\n",
       "      <td>0.0</td>\n",
       "      <td>0.0</td>\n",
       "      <td>0.0</td>\n",
       "      <td>0.0</td>\n",
       "      <td>0.0</td>\n",
       "    </tr>\n",
       "  </tbody>\n",
       "</table>\n",
       "<p>5 rows × 121 columns</p>\n",
       "</div>"
      ],
      "text/plain": [
       "   TARGET NAME_CONTRACT_TYPE CODE_GENDER FLAG_OWN_CAR FLAG_OWN_REALTY  \\\n",
       "0       1         Cash loans           M            N               Y   \n",
       "1       0         Cash loans           F            N               N   \n",
       "2       0    Revolving loans           M            Y               Y   \n",
       "3       0         Cash loans           F            N               Y   \n",
       "4       0         Cash loans           M            N               Y   \n",
       "\n",
       "   CNT_CHILDREN  AMT_INCOME_TOTAL  AMT_CREDIT  AMT_ANNUITY  AMT_GOODS_PRICE  \\\n",
       "0             0          202500.0    406597.5      24700.5         351000.0   \n",
       "1             0          270000.0   1293502.5      35698.5        1129500.0   \n",
       "2             0           67500.0    135000.0       6750.0         135000.0   \n",
       "3             0          135000.0    312682.5      29686.5         297000.0   \n",
       "4             0          121500.0    513000.0      21865.5         513000.0   \n",
       "\n",
       "   ... FLAG_DOCUMENT_18 FLAG_DOCUMENT_19 FLAG_DOCUMENT_20 FLAG_DOCUMENT_21  \\\n",
       "0  ...                0                0                0                0   \n",
       "1  ...                0                0                0                0   \n",
       "2  ...                0                0                0                0   \n",
       "3  ...                0                0                0                0   \n",
       "4  ...                0                0                0                0   \n",
       "\n",
       "  AMT_REQ_CREDIT_BUREAU_HOUR  AMT_REQ_CREDIT_BUREAU_DAY  \\\n",
       "0                        0.0                        0.0   \n",
       "1                        0.0                        0.0   \n",
       "2                        0.0                        0.0   \n",
       "3                        NaN                        NaN   \n",
       "4                        0.0                        0.0   \n",
       "\n",
       "   AMT_REQ_CREDIT_BUREAU_WEEK  AMT_REQ_CREDIT_BUREAU_MON  \\\n",
       "0                         0.0                        0.0   \n",
       "1                         0.0                        0.0   \n",
       "2                         0.0                        0.0   \n",
       "3                         NaN                        NaN   \n",
       "4                         0.0                        0.0   \n",
       "\n",
       "   AMT_REQ_CREDIT_BUREAU_QRT  AMT_REQ_CREDIT_BUREAU_YEAR  \n",
       "0                        0.0                         1.0  \n",
       "1                        0.0                         0.0  \n",
       "2                        0.0                         0.0  \n",
       "3                        NaN                         NaN  \n",
       "4                        0.0                         0.0  \n",
       "\n",
       "[5 rows x 121 columns]"
      ]
     },
     "execution_count": 2,
     "metadata": {},
     "output_type": "execute_result"
    }
   ],
   "source": [
    "df = pd.read_csv(r\"C:\\Users\\HP\\Downloads\\loan_data (1).csv\")\n",
    "df= df.drop(['SK_ID_CURR'],axis=1)\n",
    "df.head()"
   ]
  },
  {
   "cell_type": "code",
   "execution_count": 3,
   "metadata": {},
   "outputs": [],
   "source": [
    "df = df[pd.notnull(df['EMERGENCYSTATE_MODE'])]\n",
    "#EMERGENCYSTATE_MODE--> this column contains around 145755 of missing values in it  "
   ]
  },
  {
   "cell_type": "code",
   "execution_count": 4,
   "metadata": {},
   "outputs": [
    {
     "data": {
      "text/plain": [
       "(161756, 121)"
      ]
     },
     "execution_count": 4,
     "metadata": {},
     "output_type": "execute_result"
    }
   ],
   "source": [
    "df.shape"
   ]
  },
  {
   "cell_type": "code",
   "execution_count": 5,
   "metadata": {},
   "outputs": [],
   "source": [
    "df = df.loc[df['CODE_GENDER'] != 'XNA']"
   ]
  },
  {
   "cell_type": "markdown",
   "metadata": {},
   "source": [
    "### Filling the missing value in label column"
   ]
  },
  {
   "cell_type": "code",
   "execution_count": 6,
   "metadata": {},
   "outputs": [],
   "source": [
    "df['NAME_TYPE_SUITE'] = df['NAME_TYPE_SUITE'].replace(np.nan,'Other_C')\n",
    "df['NAME_FAMILY_STATUS'] = df['NAME_FAMILY_STATUS'].replace('Unknown', 'Married')\n",
    "df['OCCUPATION_TYPE'] = df['OCCUPATION_TYPE'].replace(np.nan,'Others')\n",
    "df['WALLSMATERIAL_MODE'] = df['WALLSMATERIAL_MODE'].replace(np.nan,'Others')\n",
    "df['HOUSETYPE_MODE'] = df['HOUSETYPE_MODE'].replace(np.nan,'Unkown')\n",
    "df['FONDKAPREMONT_MODE'] = df['FONDKAPREMONT_MODE'].replace(np.nan,'not available')"
   ]
  },
  {
   "cell_type": "code",
   "execution_count": 7,
   "metadata": {},
   "outputs": [],
   "source": [
    "df = df[pd.notnull(df['AMT_REQ_CREDIT_BUREAU_YEAR'])]"
   ]
  },
  {
   "cell_type": "code",
   "execution_count": 8,
   "metadata": {},
   "outputs": [
    {
     "name": "stdout",
     "output_type": "stream",
     "text": [
      "<class 'pandas.core.frame.DataFrame'>\n",
      "Int64Index: 141359 entries, 0 to 307510\n",
      "Columns: 121 entries, TARGET to AMT_REQ_CREDIT_BUREAU_YEAR\n",
      "dtypes: float64(65), int64(40), object(16)\n",
      "memory usage: 131.6+ MB\n"
     ]
    }
   ],
   "source": [
    "df.info()"
   ]
  },
  {
   "cell_type": "code",
   "execution_count": 9,
   "metadata": {},
   "outputs": [
    {
     "data": {
      "text/plain": [
       "array(['NAME_CONTRACT_TYPE', 'CODE_GENDER', 'FLAG_OWN_CAR',\n",
       "       'FLAG_OWN_REALTY', 'NAME_TYPE_SUITE', 'NAME_INCOME_TYPE',\n",
       "       'NAME_EDUCATION_TYPE', 'NAME_FAMILY_STATUS', 'NAME_HOUSING_TYPE',\n",
       "       'OCCUPATION_TYPE', 'WEEKDAY_APPR_PROCESS_START',\n",
       "       'ORGANIZATION_TYPE', 'FONDKAPREMONT_MODE', 'HOUSETYPE_MODE',\n",
       "       'WALLSMATERIAL_MODE', 'EMERGENCYSTATE_MODE'], dtype=object)"
      ]
     },
     "execution_count": 9,
     "metadata": {},
     "output_type": "execute_result"
    }
   ],
   "source": [
    "labels = df.describe(include=['object']).columns.values\n",
    "labels"
   ]
  },
  {
   "cell_type": "markdown",
   "metadata": {},
   "source": [
    "### Lable encoding"
   ]
  },
  {
   "cell_type": "code",
   "execution_count": 10,
   "metadata": {},
   "outputs": [
    {
     "name": "stdout",
     "output_type": "stream",
     "text": [
      "<class 'pandas.core.frame.DataFrame'>\n",
      "Int64Index: 141359 entries, 0 to 307510\n",
      "Columns: 121 entries, TARGET to AMT_REQ_CREDIT_BUREAU_YEAR\n",
      "dtypes: float64(65), int32(16), int64(40)\n",
      "memory usage: 122.9 MB\n"
     ]
    }
   ],
   "source": [
    "le = LabelEncoder()\n",
    "for lab in labels:\n",
    "    le.fit(df[lab].values)\n",
    "    df[lab] = le.transform(df[lab])\n",
    "df.info()"
   ]
  },
  {
   "cell_type": "markdown",
   "metadata": {},
   "source": [
    "### Imputing the missing values "
   ]
  },
  {
   "cell_type": "code",
   "execution_count": 11,
   "metadata": {},
   "outputs": [
    {
     "name": "stdout",
     "output_type": "stream",
     "text": [
      "Percentage of nan values :       %\n",
      "\n",
      "AMT_ANNUITY                      0.003537\n",
      "AMT_GOODS_PRICE                  0.076401\n",
      "OWN_CAR_AGE                     66.835504\n",
      "CNT_FAM_MEMBERS                  0.000707\n",
      "EXT_SOURCE_1                    53.918746\n",
      "EXT_SOURCE_2                     0.181099\n",
      "EXT_SOURCE_3                     7.437093\n",
      "APARTMENTS_AVG                   6.336349\n",
      "BASEMENTAREA_AVG                21.041462\n",
      "YEARS_BEGINEXPLUATATION_AVG      2.606130\n",
      "YEARS_BUILD_AVG                 36.207104\n",
      "COMMONAREA_AVG                  42.638955\n",
      "ELEVATORS_AVG                   11.141137\n",
      "ENTRANCES_AVG                    5.554652\n",
      "FLOORSMAX_AVG                    4.435515\n",
      "FLOORSMIN_AVG                   38.816771\n",
      "LANDAREA_AVG                    22.631739\n",
      "LIVINGAPARTMENTS_AVG            39.747734\n",
      "LIVINGAREA_AVG                   5.292199\n",
      "NONLIVINGAPARTMENTS_AVG         41.785100\n",
      "NONLIVINGAREA_AVG               14.723505\n",
      "APARTMENTS_MODE                  6.336349\n",
      "BASEMENTAREA_MODE               21.041462\n",
      "YEARS_BEGINEXPLUATATION_MODE     2.606130\n",
      "YEARS_BUILD_MODE                36.207104\n",
      "COMMONAREA_MODE                 42.638955\n",
      "ELEVATORS_MODE                  11.141137\n",
      "ENTRANCES_MODE                   5.554652\n",
      "FLOORSMAX_MODE                   4.435515\n",
      "FLOORSMIN_MODE                  38.816771\n",
      "LANDAREA_MODE                   22.631739\n",
      "LIVINGAPARTMENTS_MODE           39.747734\n",
      "LIVINGAREA_MODE                  5.292199\n",
      "NONLIVINGAPARTMENTS_MODE        41.785100\n",
      "NONLIVINGAREA_MODE              14.723505\n",
      "APARTMENTS_MEDI                  6.336349\n",
      "BASEMENTAREA_MEDI               21.041462\n",
      "YEARS_BEGINEXPLUATATION_MEDI     2.606130\n",
      "YEARS_BUILD_MEDI                36.207104\n",
      "COMMONAREA_MEDI                 42.638955\n",
      "ELEVATORS_MEDI                  11.141137\n",
      "ENTRANCES_MEDI                   5.554652\n",
      "FLOORSMAX_MEDI                   4.435515\n",
      "FLOORSMIN_MEDI                  38.816771\n",
      "LANDAREA_MEDI                   22.631739\n",
      "LIVINGAPARTMENTS_MEDI           39.747734\n",
      "LIVINGAREA_MEDI                  5.292199\n",
      "NONLIVINGAPARTMENTS_MEDI        41.785100\n",
      "NONLIVINGAREA_MEDI              14.723505\n",
      "TOTALAREA_MODE                   1.631308\n",
      "OBS_30_CNT_SOCIAL_CIRCLE         0.384128\n",
      "DEF_30_CNT_SOCIAL_CIRCLE         0.384128\n",
      "OBS_60_CNT_SOCIAL_CIRCLE         0.384128\n",
      "DEF_60_CNT_SOCIAL_CIRCLE         0.384128\n",
      "dtype: float64\n"
     ]
    }
   ],
   "source": [
    "null_column = df.columns[df.isnull().any()]\n",
    "print('Percentage of nan values :       %')\n",
    "print()\n",
    "print(df[null_column].isnull().sum()/df.shape[0]*100)"
   ]
  },
  {
   "cell_type": "code",
   "execution_count": 12,
   "metadata": {},
   "outputs": [],
   "source": [
    "df = df.drop(['EXT_SOURCE_1','OWN_CAR_AGE','COMMONAREA_AVG','FLOORSMIN_AVG','LIVINGAPARTMENTS_AVG','COMMONAREA_MODE','NONLIVINGAPARTMENTS_AVG','FLOORSMIN_MODE','LIVINGAPARTMENTS_MODE','NONLIVINGAPARTMENTS_MODE','COMMONAREA_MEDI','FLOORSMIN_MEDI','LIVINGAPARTMENTS_MEDI','NONLIVINGAPARTMENTS_MEDI'], axis=1)\n",
    "\n",
    "#since these columns contains more tham 39% of nan values "
   ]
  },
  {
   "cell_type": "code",
   "execution_count": 13,
   "metadata": {},
   "outputs": [
    {
     "data": {
      "text/plain": [
       "(141359, 107)"
      ]
     },
     "execution_count": 13,
     "metadata": {},
     "output_type": "execute_result"
    }
   ],
   "source": [
    "df.shape"
   ]
  },
  {
   "cell_type": "code",
   "execution_count": 14,
   "metadata": {},
   "outputs": [],
   "source": [
    "df = df[pd.notnull(df['AMT_ANNUITY'])]"
   ]
  },
  {
   "cell_type": "markdown",
   "metadata": {},
   "source": [
    "### Imputing the missing values"
   ]
  },
  {
   "cell_type": "code",
   "execution_count": 15,
   "metadata": {},
   "outputs": [],
   "source": [
    "imp1 = SimpleImputer(missing_values= np.nan, strategy='mean')\n",
    "imp2 = SimpleImputer(missing_values= np.nan, strategy='median')"
   ]
  },
  {
   "cell_type": "code",
   "execution_count": 16,
   "metadata": {},
   "outputs": [],
   "source": [
    "df[['AMT_GOODS_PRICE','EXT_SOURCE_2',\n",
    "    'EXT_SOURCE_3','APARTMENTS_AVG',\n",
    "    'BASEMENTAREA_AVG','YEARS_BEGINEXPLUATATION_AVG',\n",
    "    'YEARS_BUILD_AVG','ELEVATORS_AVG',\n",
    "    'ENTRANCES_AVG','FLOORSMAX_AVG',\n",
    "    'LANDAREA_AVG','LIVINGAREA_AVG',\n",
    "    'NONLIVINGAREA_AVG','APARTMENTS_MODE',\n",
    "    'BASEMENTAREA_MODE','YEARS_BEGINEXPLUATATION_MODE',\n",
    "    'YEARS_BUILD_MODE','ELEVATORS_MODE','ENTRANCES_MODE',\n",
    "    'FLOORSMAX_MODE','LANDAREA_MODE','LIVINGAREA_MODE',\n",
    "    'NONLIVINGAREA_MODE','APARTMENTS_MEDI',\n",
    "    'BASEMENTAREA_MEDI','BASEMENTAREA_MEDI',\n",
    "    'YEARS_BEGINEXPLUATATION_MEDI','YEARS_BUILD_MEDI',\n",
    "    'ELEVATORS_MEDI','ENTRANCES_MEDI','FLOORSMAX_MEDI',\n",
    "    'LANDAREA_MEDI','LIVINGAREA_MEDI',\n",
    "    'NONLIVINGAREA_MEDI','TOTALAREA_MODE',]]             = imp1.fit_transform(df[['AMT_GOODS_PRICE','EXT_SOURCE_2',\n",
    "                                                                                  'EXT_SOURCE_3','APARTMENTS_AVG',\n",
    "                                                                                  'BASEMENTAREA_AVG','YEARS_BEGINEXPLUATATION_AVG',\n",
    "                                                                                  'YEARS_BUILD_AVG','ELEVATORS_AVG',\n",
    "                                                                                  'ENTRANCES_AVG','FLOORSMAX_AVG',\n",
    "                                                                                  'LANDAREA_AVG','LIVINGAREA_AVG',\n",
    "                                                                                  'NONLIVINGAREA_AVG','APARTMENTS_MODE',\n",
    "                                                                                  'BASEMENTAREA_MODE','YEARS_BEGINEXPLUATATION_MODE',\n",
    "                                                                                  'YEARS_BUILD_MODE','ELEVATORS_MODE','ENTRANCES_MODE',\n",
    "                                                                                  'FLOORSMAX_MODE','LANDAREA_MODE','LIVINGAREA_MODE',\n",
    "                                                                                  'NONLIVINGAREA_MODE','APARTMENTS_MEDI',\n",
    "                                                                                  'BASEMENTAREA_MEDI','BASEMENTAREA_MEDI',\n",
    "                                                                                  'YEARS_BEGINEXPLUATATION_MEDI','YEARS_BUILD_MEDI',\n",
    "                                                                                  'ELEVATORS_MEDI','ENTRANCES_MEDI','FLOORSMAX_MEDI',\n",
    "                                                                                  'LANDAREA_MEDI','LIVINGAREA_MEDI',\n",
    "                                                                                  'NONLIVINGAREA_MEDI','TOTALAREA_MODE',]]  )"
   ]
  },
  {
   "cell_type": "code",
   "execution_count": 17,
   "metadata": {},
   "outputs": [],
   "source": [
    "df[['CNT_FAM_MEMBERS','OBS_30_CNT_SOCIAL_CIRCLE',\n",
    "    'DEF_30_CNT_SOCIAL_CIRCLE','OBS_60_CNT_SOCIAL_CIRCLE',\n",
    "    'OBS_60_CNT_SOCIAL_CIRCLE','DEF_60_CNT_SOCIAL_CIRCLE',]] = imp2.fit_transform(df[['CNT_FAM_MEMBERS','OBS_30_CNT_SOCIAL_CIRCLE',\n",
    "                                                                                      'DEF_30_CNT_SOCIAL_CIRCLE','OBS_60_CNT_SOCIAL_CIRCLE',\n",
    "                                                                                      'OBS_60_CNT_SOCIAL_CIRCLE','DEF_60_CNT_SOCIAL_CIRCLE',]])"
   ]
  },
  {
   "cell_type": "code",
   "execution_count": 18,
   "metadata": {},
   "outputs": [
    {
     "name": "stdout",
     "output_type": "stream",
     "text": [
      "Percentage of nan values :       %\n",
      "\n",
      "Series([], dtype: float64)\n"
     ]
    }
   ],
   "source": [
    "null_columns=df.columns[df.isnull().any()]\n",
    "print('Percentage of nan values :       %')\n",
    "print()\n",
    "print(df[null_columns].isnull().sum()/df.shape[0]*100)"
   ]
  },
  {
   "cell_type": "markdown",
   "metadata": {},
   "source": [
    "### Finding column with zero variance "
   ]
  },
  {
   "cell_type": "code",
   "execution_count": 19,
   "metadata": {},
   "outputs": [
    {
     "name": "stdout",
     "output_type": "stream",
     "text": [
      "['FLAG_MOBIL' 'FLAG_DOCUMENT_2']\n"
     ]
    }
   ],
   "source": [
    "var = df.var()[df.var()==0].index.values\n",
    "print(var)"
   ]
  },
  {
   "cell_type": "code",
   "execution_count": 20,
   "metadata": {},
   "outputs": [],
   "source": [
    "df = df.drop(['FLAG_DOCUMENT_2','FLAG_MOBIL'],axis=1)\n",
    "\n",
    "#since this column contains only one categorical variable, ie zero variance"
   ]
  },
  {
   "cell_type": "code",
   "execution_count": 21,
   "metadata": {},
   "outputs": [
    {
     "name": "stdout",
     "output_type": "stream",
     "text": [
      "Counts of Class 0 : 131840\n",
      "Counts of Class 1 : 9514\n",
      "\n",
      "Propotion --->  93.0 : 7.0\n"
     ]
    }
   ],
   "source": [
    "class_counts = df.TARGET.value_counts()\n",
    "\n",
    "print('Counts of Class 0 :',class_counts[0])\n",
    "print('Counts of Class 1 :',class_counts[1])\n",
    "print()\n",
    "print('Propotion ---> ',round(class_counts[0]/len(df.TARGET)*100),':',round(class_counts[1]/len(df.TARGET)*100))"
   ]
  },
  {
   "cell_type": "code",
   "execution_count": 22,
   "metadata": {},
   "outputs": [],
   "source": [
    "sc = StandardScaler()\n",
    "df[['AMT_INCOME_TOTAL','AMT_ANNUITY',\n",
    "   'AMT_CREDIT','AMT_GOODS_PRICE',\n",
    "   'DAYS_BIRTH','DAYS_EMPLOYED',\n",
    "   'DAYS_REGISTRATION','DAYS_ID_PUBLISH',\n",
    "   'DAYS_LAST_PHONE_CHANGE']]              = sc.fit_transform(df[['AMT_INCOME_TOTAL','AMT_ANNUITY',\n",
    "                                                                  'AMT_CREDIT','AMT_GOODS_PRICE',\n",
    "                                                                  'DAYS_BIRTH','DAYS_EMPLOYED',\n",
    "                                                                  'DAYS_REGISTRATION','DAYS_ID_PUBLISH',\n",
    "                                                                  'DAYS_LAST_PHONE_CHANGE']])"
   ]
  },
  {
   "cell_type": "markdown",
   "metadata": {},
   "source": [
    "### Finding the highly correlated columns in dataset"
   ]
  },
  {
   "cell_type": "code",
   "execution_count": 23,
   "metadata": {},
   "outputs": [],
   "source": [
    "corr = df.corr()"
   ]
  },
  {
   "cell_type": "code",
   "execution_count": 24,
   "metadata": {},
   "outputs": [
    {
     "data": {
      "image/png": "[encoded data removed]",
      "text/plain": [
       "<Figure size 432x288 with 2 Axes>"
      ]
     },
     "metadata": {
      "needs_background": "light"
     },
     "output_type": "display_data"
    }
   ],
   "source": [
    "import seaborn as sns\n",
    "sns.heatmap(corr, annot=False, cmap=plt.cm.Reds)\n",
    "plt.show()"
   ]
  },
  {
   "cell_type": "code",
   "execution_count": 25,
   "metadata": {},
   "outputs": [
    {
     "data": {
      "text/plain": [
       "['AMT_GOODS_PRICE',\n",
       " 'FLAG_EMP_PHONE',\n",
       " 'REGION_RATING_CLIENT_W_CITY',\n",
       " 'APARTMENTS_MODE',\n",
       " 'BASEMENTAREA_MODE',\n",
       " 'YEARS_BEGINEXPLUATATION_MODE',\n",
       " 'YEARS_BUILD_MODE',\n",
       " 'ELEVATORS_MODE',\n",
       " 'ENTRANCES_MODE',\n",
       " 'FLOORSMAX_MODE',\n",
       " 'LANDAREA_MODE',\n",
       " 'LIVINGAREA_MODE',\n",
       " 'NONLIVINGAREA_MODE',\n",
       " 'APARTMENTS_MEDI',\n",
       " 'BASEMENTAREA_MEDI',\n",
       " 'YEARS_BEGINEXPLUATATION_MEDI',\n",
       " 'YEARS_BUILD_MEDI',\n",
       " 'ELEVATORS_MEDI',\n",
       " 'ENTRANCES_MEDI',\n",
       " 'FLOORSMAX_MEDI',\n",
       " 'LANDAREA_MEDI',\n",
       " 'LIVINGAREA_MEDI',\n",
       " 'NONLIVINGAREA_MEDI',\n",
       " 'TOTALAREA_MODE',\n",
       " 'OBS_60_CNT_SOCIAL_CIRCLE']"
      ]
     },
     "execution_count": 25,
     "metadata": {},
     "output_type": "execute_result"
    }
   ],
   "source": [
    "corr_matrix = df.corr().abs()\n",
    "upper = corr_matrix.where(np.triu(np.ones(corr_matrix.shape),k=1).astype(np.bool))\n",
    "to_drop = [col for col in upper.columns if any(upper[col]>0.90)]\n",
    "to_drop"
   ]
  },
  {
   "cell_type": "code",
   "execution_count": 26,
   "metadata": {},
   "outputs": [],
   "source": [
    "df = df.drop(df[to_drop], axis=1)"
   ]
  },
  {
   "cell_type": "code",
   "execution_count": 27,
   "metadata": {},
   "outputs": [
    {
     "data": {
      "image/png": "[encoded data removed]",
      "text/plain": [
       "<Figure size 432x288 with 2 Axes>"
      ]
     },
     "metadata": {
      "needs_background": "light"
     },
     "output_type": "display_data"
    }
   ],
   "source": [
    "corr = df.corr()\n",
    "sns.heatmap(corr, annot=False, cmap=plt.cm.Reds)\n",
    "plt.show()"
   ]
  },
  {
   "cell_type": "markdown",
   "metadata": {},
   "source": [
    "### Splitting data in Hold out method"
   ]
  },
  {
   "cell_type": "code",
   "execution_count": 28,
   "metadata": {},
   "outputs": [],
   "source": [
    "x = df.drop('TARGET',axis=1)\n",
    "y = df.TARGET"
   ]
  },
  {
   "cell_type": "code",
   "execution_count": 29,
   "metadata": {},
   "outputs": [
    {
     "name": "stdout",
     "output_type": "stream",
     "text": [
      "(113083, 79)\n",
      "(113083,)\n",
      "\n",
      "0    105472\n",
      "1      7611\n",
      "Name: TARGET, dtype: int64\n"
     ]
    }
   ],
   "source": [
    "x_train, x_test, y_train, y_test = train_test_split(x, y,test_size= 0.2, random_state= 10, stratify=y)\n",
    "print(x_train.shape)\n",
    "print(y_train.shape)\n",
    "print()\n",
    "print(y_train.value_counts())"
   ]
  },
  {
   "cell_type": "markdown",
   "metadata": {},
   "source": [
    "### Upsampling the minimum class"
   ]
  },
  {
   "cell_type": "code",
   "execution_count": 30,
   "metadata": {},
   "outputs": [],
   "source": [
    "smt = SMOTE(random_state= 10, n_jobs=-1,sampling_strategy='all' )\n",
    "\n",
    "\n",
    "#sampling_strategy='minority' ----> resample only the minority class;\n",
    "#sampling_strategy='not minority' ----> resample all classes but the minority class;\n",
    "#sampling_strategy='not majority' ----> resample all classes but the majority class;\n",
    "#sampling_strategy='all' ----> resample all classes;\n",
    "#sampling_strategy='auto' ----> equivalent to 'not majority'."
   ]
  },
  {
   "cell_type": "code",
   "execution_count": 31,
   "metadata": {},
   "outputs": [],
   "source": [
    "x_train, y_train = smt.fit_sample(x_train,y_train)"
   ]
  },
  {
   "cell_type": "code",
   "execution_count": 32,
   "metadata": {},
   "outputs": [
    {
     "name": "stdout",
     "output_type": "stream",
     "text": [
      "(210944, 79)\n",
      "(210944,)\n"
     ]
    }
   ],
   "source": [
    "print(x_train.shape)\n",
    "print(y_train.shape)"
   ]
  },
  {
   "cell_type": "markdown",
   "metadata": {},
   "source": [
    "### Building NN model"
   ]
  },
  {
   "cell_type": "code",
   "execution_count": 33,
   "metadata": {},
   "outputs": [
    {
     "name": "stdout",
     "output_type": "stream",
     "text": [
      "WARNING:tensorflow:From C:\\Users\\HP\\Anaconda3\\lib\\site-packages\\tensorflow\\python\\ops\\resource_variable_ops.py:435: colocate_with (from tensorflow.python.framework.ops) is deprecated and will be removed in a future version.\n",
      "Instructions for updating:\n",
      "Colocations handled automatically by placer.\n",
      "Model: \"sequential_1\"\n",
      "_________________________________________________________________\n",
      "Layer (type)                 Output Shape              Param #   \n",
      "=================================================================\n",
      "dense_1 (Dense)              (None, 53)                4240      \n",
      "_________________________________________________________________\n",
      "dropout_1 (Dropout)          (None, 53)                0         \n",
      "_________________________________________________________________\n",
      "dense_2 (Dense)              (None, 53)                2862      \n",
      "_________________________________________________________________\n",
      "dropout_2 (Dropout)          (None, 53)                0         \n",
      "_________________________________________________________________\n",
      "dense_3 (Dense)              (None, 1)                 54        \n",
      "=================================================================\n",
      "Total params: 7,156\n",
      "Trainable params: 7,156\n",
      "Non-trainable params: 0\n",
      "_________________________________________________________________\n"
     ]
    }
   ],
   "source": [
    "model = Sequential()\n",
    "model.add(Dense(units= 53,activation = 'relu',input_dim=79)) # first hidden and first input layer\n",
    "model.add(Dropout(0.2))\n",
    "model.add(Dense(units= 53,activation = 'relu')) # second hidden layer\n",
    "model.add(Dropout(0.2))\n",
    "model.add(Dense(units= 1,activation = 'sigmoid')) # output layer \n",
    "model.summary()"
   ]
  },
  {
   "cell_type": "code",
   "execution_count": 34,
   "metadata": {},
   "outputs": [],
   "source": [
    "model.compile(optimizer='adam',loss='binary_crossentropy',metrics=['accuracy'])"
   ]
  },
  {
   "cell_type": "code",
   "execution_count": 35,
   "metadata": {},
   "outputs": [
    {
     "name": "stdout",
     "output_type": "stream",
     "text": [
      "WARNING:tensorflow:From C:\\Users\\HP\\Anaconda3\\lib\\site-packages\\tensorflow\\python\\ops\\math_ops.py:3066: to_int32 (from tensorflow.python.ops.math_ops) is deprecated and will be removed in a future version.\n",
      "Instructions for updating:\n",
      "Use tf.cast instead.\n",
      "Train on 210944 samples, validate on 28271 samples\n",
      "Epoch 1/20\n",
      "210944/210944 [==============================] - 35s 166us/step - loss: 0.6013 - accuracy: 0.6783 - val_loss: 0.5341 - val_accuracy: 0.7336\n",
      "Epoch 2/20\n",
      "210944/210944 [==============================] - 34s 159us/step - loss: 0.5522 - accuracy: 0.7223 - val_loss: 0.5880 - val_accuracy: 0.6809\n",
      "Epoch 3/20\n",
      "210944/210944 [==============================] - 34s 160us/step - loss: 0.5326 - accuracy: 0.7371 - val_loss: 0.5703 - val_accuracy: 0.6957\n",
      "Epoch 4/20\n",
      "210944/210944 [==============================] - 35s 165us/step - loss: 0.5174 - accuracy: 0.7465 - val_loss: 0.5327 - val_accuracy: 0.7197\n",
      "Epoch 5/20\n",
      "210944/210944 [==============================] - 34s 163us/step - loss: 0.5041 - accuracy: 0.7568 - val_loss: 0.6496 - val_accuracy: 0.6305\n",
      "Epoch 6/20\n",
      "210944/210944 [==============================] - 35s 167us/step - loss: 0.4940 - accuracy: 0.7640 - val_loss: 0.5328 - val_accuracy: 0.7210\n",
      "Epoch 7/20\n",
      "210944/210944 [==============================] - 37s 177us/step - loss: 0.4842 - accuracy: 0.7699 - val_loss: 0.5496 - val_accuracy: 0.7091\n",
      "Epoch 8/20\n",
      "210944/210944 [==============================] - 39s 187us/step - loss: 0.4748 - accuracy: 0.7756 - val_loss: 0.4919 - val_accuracy: 0.7635\n",
      "Epoch 9/20\n",
      "210944/210944 [==============================] - 38s 178us/step - loss: 0.4684 - accuracy: 0.7800 - val_loss: 0.5182 - val_accuracy: 0.7392\n",
      "Epoch 10/20\n",
      "210944/210944 [==============================] - 38s 182us/step - loss: 0.4590 - accuracy: 0.7869 - val_loss: 0.4529 - val_accuracy: 0.7917\n",
      "Epoch 11/20\n",
      "210944/210944 [==============================] - 32s 153us/step - loss: 0.4484 - accuracy: 0.7924 - val_loss: 0.6217 - val_accuracy: 0.6589\n",
      "Epoch 12/20\n",
      "210944/210944 [==============================] - 33s 159us/step - loss: 0.4426 - accuracy: 0.7960 - val_loss: 0.4890 - val_accuracy: 0.7646\n",
      "Epoch 13/20\n",
      "210944/210944 [==============================] - 30s 142us/step - loss: 0.4370 - accuracy: 0.7991 - val_loss: 0.4194 - val_accuracy: 0.8236\n",
      "Epoch 14/20\n",
      "210944/210944 [==============================] - 31s 147us/step - loss: 0.4316 - accuracy: 0.8020 - val_loss: 0.4505 - val_accuracy: 0.7850\n",
      "Epoch 15/20\n",
      "210944/210944 [==============================] - 32s 153us/step - loss: 0.4268 - accuracy: 0.8048 - val_loss: 0.5646 - val_accuracy: 0.7076\n",
      "Epoch 16/20\n",
      "210944/210944 [==============================] - 31s 147us/step - loss: 0.4230 - accuracy: 0.8070 - val_loss: 0.3792 - val_accuracy: 0.8444\n",
      "Epoch 17/20\n",
      "210944/210944 [==============================] - 33s 157us/step - loss: 0.4192 - accuracy: 0.8090 - val_loss: 0.4887 - val_accuracy: 0.7633\n",
      "Epoch 18/20\n",
      "210944/210944 [==============================] - 33s 156us/step - loss: 0.4141 - accuracy: 0.8111 - val_loss: 0.5617 - val_accuracy: 0.7005\n",
      "Epoch 19/20\n",
      "210944/210944 [==============================] - 34s 162us/step - loss: 0.4124 - accuracy: 0.8129 - val_loss: 0.4872 - val_accuracy: 0.7606\n",
      "Epoch 20/20\n",
      "210944/210944 [==============================] - 34s 163us/step - loss: 0.4094 - accuracy: 0.8145 - val_loss: 0.4708 - val_accuracy: 0.7718\n"
     ]
    },
    {
     "data": {
      "text/plain": [
       "<keras.callbacks.callbacks.History at 0x23b012b71c8>"
      ]
     },
     "execution_count": 35,
     "metadata": {},
     "output_type": "execute_result"
    }
   ],
   "source": [
    "model.fit(x_train,y_train,batch_size=10,epochs=20,validation_data=(x_test,y_test))"
   ]
  },
  {
   "cell_type": "code",
   "execution_count": 36,
   "metadata": {},
   "outputs": [
    {
     "name": "stdout",
     "output_type": "stream",
     "text": [
      "28271/28271 [==============================] - 0s 15us/step\n"
     ]
    }
   ],
   "source": [
    "score = model.evaluate(x_test,y_test)"
   ]
  },
  {
   "cell_type": "code",
   "execution_count": 37,
   "metadata": {},
   "outputs": [
    {
     "name": "stdout",
     "output_type": "stream",
     "text": [
      "Test loss :  0.47075123753150794\n",
      "Test accuracy :  0.7718156576156616\n"
     ]
    }
   ],
   "source": [
    "print('Test loss : ', score[0])\n",
    "print('Test accuracy : ', score[1])"
   ]
  },
  {
   "cell_type": "code",
   "execution_count": 38,
   "metadata": {},
   "outputs": [],
   "source": [
    "y_pred = model.predict_classes(x_test) #predcting the classes"
   ]
  },
  {
   "cell_type": "code",
   "execution_count": 39,
   "metadata": {},
   "outputs": [
    {
     "data": {
      "text/plain": [
       "array([[0],\n",
       "       [0],\n",
       "       [0],\n",
       "       ...,\n",
       "       [0],\n",
       "       [1],\n",
       "       [0]])"
      ]
     },
     "execution_count": 39,
     "metadata": {},
     "output_type": "execute_result"
    }
   ],
   "source": [
    "y_pred"
   ]
  },
  {
   "cell_type": "code",
   "execution_count": 40,
   "metadata": {},
   "outputs": [
    {
     "data": {
      "text/plain": [
       "130760    0\n",
       "94751     0\n",
       "55513     0\n",
       "155355    0\n",
       "208533    0\n",
       "         ..\n",
       "138720    0\n",
       "64929     0\n",
       "87179     0\n",
       "83531     0\n",
       "187548    0\n",
       "Name: TARGET, Length: 28271, dtype: int64"
      ]
     },
     "execution_count": 40,
     "metadata": {},
     "output_type": "execute_result"
    }
   ],
   "source": [
    "y_test"
   ]
  },
  {
   "cell_type": "markdown",
   "metadata": {},
   "source": [
    "### Calculating the accuracy score "
   ]
  },
  {
   "cell_type": "code",
   "execution_count": 41,
   "metadata": {},
   "outputs": [
    {
     "name": "stdout",
     "output_type": "stream",
     "text": [
      "Accuracy of the model is :  77.0 %\n"
     ]
    }
   ],
   "source": [
    "print('Accuracy of the model is : ',round(accuracy_score(y_pred, y_test)*100),'%')"
   ]
  },
  {
   "cell_type": "code",
   "execution_count": null,
   "metadata": {},
   "outputs": [],
   "source": []
  }
 ],
 "metadata": {
  "kernelspec": {
   "display_name": "Python 3",
   "language": "python",
   "name": "python3"
  },
  "language_info": {
   "codemirror_mode": {
    "name": "ipython",
    "version": 3
   },
   "file_extension": ".py",
   "mimetype": "text/x-python",
   "name": "python",
   "nbconvert_exporter": "python",
   "pygments_lexer": "ipython3",
   "version": "3.7.7"
  }
 },
 "nbformat": 4,
 "nbformat_minor": 4
}
